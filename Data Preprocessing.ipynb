{
 "cells": [
  {
   "cell_type": "code",
   "execution_count": 1,
   "id": "4b9de461",
   "metadata": {},
   "outputs": [],
   "source": [
    "import pandas as pd\n",
    "import numpy as np\n",
    "import warnings\n",
    "import seaborn as sns\n",
    "import matplotlib.pyplot as plt\n",
    "warnings.filterwarnings(\"ignore\")"
   ]
  },
  {
   "cell_type": "markdown",
   "id": "69b37040",
   "metadata": {},
   "source": [
    "## Read the data"
   ]
  },
  {
   "cell_type": "code",
   "execution_count": 2,
   "id": "8e17119d",
   "metadata": {},
   "outputs": [],
   "source": [
    "case = pd.read_csv('Delta_Data/cases_daily_state.csv')\n",
    "death = pd.read_csv('Delta_Data/deaths_cumulative.csv')\n",
    "hosp = pd.read_csv('Delta_Data/Hosp_states.csv')\n",
    "icu = pd.read_csv('Delta_Data/ICU_states.csv')"
   ]
  },
  {
   "cell_type": "code",
   "execution_count": 3,
   "id": "56764747",
   "metadata": {},
   "outputs": [
    {
     "data": {
      "text/html": [
       "<div>\n",
       "<style scoped>\n",
       "    .dataframe tbody tr th:only-of-type {\n",
       "        vertical-align: middle;\n",
       "    }\n",
       "\n",
       "    .dataframe tbody tr th {\n",
       "        vertical-align: top;\n",
       "    }\n",
       "\n",
       "    .dataframe thead th {\n",
       "        text-align: right;\n",
       "    }\n",
       "</style>\n",
       "<table border=\"1\" class=\"dataframe\">\n",
       "  <thead>\n",
       "    <tr style=\"text-align: right;\">\n",
       "      <th></th>\n",
       "      <th>Date</th>\n",
       "      <th>NSW</th>\n",
       "      <th>VIC</th>\n",
       "      <th>QLD</th>\n",
       "      <th>SA</th>\n",
       "      <th>WA</th>\n",
       "      <th>TAS</th>\n",
       "      <th>NT</th>\n",
       "      <th>ACT</th>\n",
       "    </tr>\n",
       "  </thead>\n",
       "  <tbody>\n",
       "    <tr>\n",
       "      <th>288</th>\n",
       "      <td>08/11/20</td>\n",
       "      <td>3</td>\n",
       "      <td>0</td>\n",
       "      <td>0</td>\n",
       "      <td>3.0</td>\n",
       "      <td>0.0</td>\n",
       "      <td>0</td>\n",
       "      <td>0.0</td>\n",
       "      <td>0</td>\n",
       "    </tr>\n",
       "  </tbody>\n",
       "</table>\n",
       "</div>"
      ],
      "text/plain": [
       "         Date  NSW  VIC  QLD   SA   WA  TAS   NT  ACT\n",
       "288  08/11/20    3    0    0  3.0  0.0    0  0.0    0"
      ]
     },
     "execution_count": 3,
     "metadata": {},
     "output_type": "execute_result"
    }
   ],
   "source": [
    "case.sample()"
   ]
  },
  {
   "cell_type": "code",
   "execution_count": 4,
   "id": "d60c1f36",
   "metadata": {},
   "outputs": [
    {
     "data": {
      "text/html": [
       "<div>\n",
       "<style scoped>\n",
       "    .dataframe tbody tr th:only-of-type {\n",
       "        vertical-align: middle;\n",
       "    }\n",
       "\n",
       "    .dataframe tbody tr th {\n",
       "        vertical-align: top;\n",
       "    }\n",
       "\n",
       "    .dataframe thead th {\n",
       "        text-align: right;\n",
       "    }\n",
       "</style>\n",
       "<table border=\"1\" class=\"dataframe\">\n",
       "  <thead>\n",
       "    <tr style=\"text-align: right;\">\n",
       "      <th></th>\n",
       "      <th>Date</th>\n",
       "      <th>NSW</th>\n",
       "      <th>VIC</th>\n",
       "      <th>QLD</th>\n",
       "      <th>SA</th>\n",
       "      <th>WA</th>\n",
       "      <th>TAS</th>\n",
       "      <th>NT</th>\n",
       "      <th>ACT</th>\n",
       "    </tr>\n",
       "  </thead>\n",
       "  <tbody>\n",
       "    <tr>\n",
       "      <th>100</th>\n",
       "      <td>30/04/21</td>\n",
       "      <td>54</td>\n",
       "      <td>820</td>\n",
       "      <td>7</td>\n",
       "      <td>4</td>\n",
       "      <td>9</td>\n",
       "      <td>13</td>\n",
       "      <td>0</td>\n",
       "      <td>3</td>\n",
       "    </tr>\n",
       "  </tbody>\n",
       "</table>\n",
       "</div>"
      ],
      "text/plain": [
       "         Date  NSW  VIC  QLD  SA  WA  TAS  NT  ACT\n",
       "100  30/04/21   54  820    7   4   9   13   0    3"
      ]
     },
     "execution_count": 4,
     "metadata": {},
     "output_type": "execute_result"
    }
   ],
   "source": [
    "death.sample()"
   ]
  },
  {
   "cell_type": "code",
   "execution_count": 5,
   "id": "d371cc1e",
   "metadata": {},
   "outputs": [
    {
     "data": {
      "text/html": [
       "<div>\n",
       "<style scoped>\n",
       "    .dataframe tbody tr th:only-of-type {\n",
       "        vertical-align: middle;\n",
       "    }\n",
       "\n",
       "    .dataframe tbody tr th {\n",
       "        vertical-align: top;\n",
       "    }\n",
       "\n",
       "    .dataframe thead th {\n",
       "        text-align: right;\n",
       "    }\n",
       "</style>\n",
       "<table border=\"1\" class=\"dataframe\">\n",
       "  <thead>\n",
       "    <tr style=\"text-align: right;\">\n",
       "      <th></th>\n",
       "      <th>Date</th>\n",
       "      <th>NSW</th>\n",
       "      <th>VIC</th>\n",
       "      <th>QLD</th>\n",
       "      <th>SA</th>\n",
       "      <th>WA</th>\n",
       "      <th>TAS</th>\n",
       "      <th>NT (inc. isolating / at-risk)</th>\n",
       "      <th>ACT</th>\n",
       "      <th>NT (hospitalisations only)</th>\n",
       "    </tr>\n",
       "  </thead>\n",
       "  <tbody>\n",
       "    <tr>\n",
       "      <th>353</th>\n",
       "      <td>20/12</td>\n",
       "      <td>261</td>\n",
       "      <td>406</td>\n",
       "      <td>66</td>\n",
       "      <td>6</td>\n",
       "      <td>0</td>\n",
       "      <td>0</td>\n",
       "      <td>13</td>\n",
       "      <td>3</td>\n",
       "      <td>13.0</td>\n",
       "    </tr>\n",
       "  </tbody>\n",
       "</table>\n",
       "</div>"
      ],
      "text/plain": [
       "      Date  NSW  VIC  QLD  SA  WA  TAS  NT (inc. isolating / at-risk)  ACT  \\\n",
       "353  20/12  261  406   66   6   0    0                             13    3   \n",
       "\n",
       "     NT (hospitalisations only)  \n",
       "353                        13.0  "
      ]
     },
     "execution_count": 5,
     "metadata": {},
     "output_type": "execute_result"
    }
   ],
   "source": [
    "hosp.sample()"
   ]
  },
  {
   "cell_type": "code",
   "execution_count": 6,
   "id": "3e63e36b",
   "metadata": {},
   "outputs": [
    {
     "data": {
      "text/html": [
       "<div>\n",
       "<style scoped>\n",
       "    .dataframe tbody tr th:only-of-type {\n",
       "        vertical-align: middle;\n",
       "    }\n",
       "\n",
       "    .dataframe tbody tr th {\n",
       "        vertical-align: top;\n",
       "    }\n",
       "\n",
       "    .dataframe thead th {\n",
       "        text-align: right;\n",
       "    }\n",
       "</style>\n",
       "<table border=\"1\" class=\"dataframe\">\n",
       "  <thead>\n",
       "    <tr style=\"text-align: right;\">\n",
       "      <th></th>\n",
       "      <th>Date</th>\n",
       "      <th>NSW</th>\n",
       "      <th>VIC</th>\n",
       "      <th>QLD</th>\n",
       "      <th>SA</th>\n",
       "      <th>WA</th>\n",
       "      <th>TAS</th>\n",
       "      <th>NT</th>\n",
       "      <th>ACT</th>\n",
       "    </tr>\n",
       "  </thead>\n",
       "  <tbody>\n",
       "    <tr>\n",
       "      <th>76</th>\n",
       "      <td>18/03</td>\n",
       "      <td>0</td>\n",
       "      <td>0</td>\n",
       "      <td>0</td>\n",
       "      <td>0</td>\n",
       "      <td>0</td>\n",
       "      <td>0</td>\n",
       "      <td>0</td>\n",
       "      <td>0</td>\n",
       "    </tr>\n",
       "  </tbody>\n",
       "</table>\n",
       "</div>"
      ],
      "text/plain": [
       "     Date  NSW  VIC  QLD  SA  WA  TAS  NT  ACT\n",
       "76  18/03    0    0    0   0   0    0   0    0"
      ]
     },
     "execution_count": 6,
     "metadata": {},
     "output_type": "execute_result"
    }
   ],
   "source": [
    "icu.sample()"
   ]
  },
  {
   "cell_type": "markdown",
   "id": "dfbd709b",
   "metadata": {},
   "source": [
    "## Unify the date format"
   ]
  },
  {
   "cell_type": "code",
   "execution_count": 7,
   "id": "19f96746",
   "metadata": {},
   "outputs": [],
   "source": [
    "case['Date'] = pd.to_datetime(case['Date'],format='%d/%m/%y',errors='coerce')\n",
    "case['year']  = case['Date'].dt.year\n",
    "case['month'] = case['Date'].dt.month\n",
    "case['day'] = case['Date'].dt.day\n",
    "\n",
    "death['Date'] = pd.to_datetime(death['Date'],format='%d/%m/%y',errors='coerce')\n",
    "death['year']  = death['Date'].dt.year\n",
    "death['month'] = death['Date'].dt.month\n",
    "death['day'] = death['Date'].dt.day\n",
    "\n",
    "hosp['Date'] = pd.to_datetime(hosp['Date'],format='%d/%m', errors='coerce')\n",
    "hosp['month'] = hosp['Date'].dt.month\n",
    "hosp['day'] = hosp['Date'].dt.day\n",
    "\n",
    "icu['Date'] = pd.to_datetime(icu['Date'],format='%d/%m', errors='coerce')\n",
    "icu['month'] = icu['Date'].dt.month\n",
    "icu['day'] = icu['Date'].dt.day"
   ]
  },
  {
   "cell_type": "code",
   "execution_count": 8,
   "id": "0ed68696",
   "metadata": {},
   "outputs": [],
   "source": [
    "hosp['Date'] = hosp['Date'].dt.strftime('%m-%d')\n",
    "icu['Date'] = icu['Date'].dt.strftime('%m-%d')"
   ]
  },
  {
   "cell_type": "markdown",
   "id": "aed4b816",
   "metadata": {},
   "source": [
    "## Remain the data from June 1 2021 to November 15 2021 "
   ]
  },
  {
   "cell_type": "code",
   "execution_count": 9,
   "id": "0be4110c",
   "metadata": {},
   "outputs": [],
   "source": [
    "case_clean = case.loc[(case['month'] >= 6) & (case['month'] < 12) & (case['year'] == 2021)]\n",
    "death_clean = death.loc[(death['month'] >= 6) & (death['month'] < 12) & (death['year'] == 2021)]"
   ]
  },
  {
   "cell_type": "code",
   "execution_count": 10,
   "id": "de304067",
   "metadata": {},
   "outputs": [],
   "source": [
    "hosp_clean = hosp.loc[(hosp['month'] >= 6) & (hosp['month'] < 12)]\n",
    "icu_clean = icu.loc[(icu['month'] >= 6) & (icu['month'] < 12)]"
   ]
  },
  {
   "cell_type": "code",
   "execution_count": 11,
   "id": "4401053c",
   "metadata": {},
   "outputs": [],
   "source": [
    "case_clean['Date'] = case_clean['Date'].dt.strftime('%m-%d')\n",
    "death_clean['Date'] = death_clean['Date'].dt.strftime('%m-%d')"
   ]
  },
  {
   "cell_type": "code",
   "execution_count": 12,
   "id": "f0ac3f30",
   "metadata": {},
   "outputs": [],
   "source": [
    "case_clean = case_clean.iloc[:-15 , :].reset_index()\n",
    "death_clean = death_clean.iloc[:-15 , :].reset_index()\n",
    "hosp_clean = hosp_clean.iloc[:-15 , :].reset_index()\n",
    "icu_clean = icu_clean.iloc[:-15 , :].reset_index()\n",
    "#case_clean = case_clean.reset_index()\n",
    "#death_clean = death_clean.reset_index()\n",
    "#hosp_clean = hosp_clean.reset_index()\n",
    "#icu_clean = icu_clean.reset_index()"
   ]
  },
  {
   "cell_type": "markdown",
   "id": "119d2cd6",
   "metadata": {},
   "source": [
    "## Only look at VIC, NSW & Output the CSV files"
   ]
  },
  {
   "cell_type": "code",
   "execution_count": 13,
   "id": "3e490de5",
   "metadata": {},
   "outputs": [],
   "source": [
    "select_columns = ['Date', 'NSW', 'VIC']\n",
    "case_clean[select_columns].to_csv(\"Output_Data/case_clean.csv\")\n",
    "death_clean[select_columns].to_csv(\"Output_Data/death_clean.csv\")\n",
    "hosp_clean[select_columns].to_csv(\"Output_Data/hosp_clean.csv\")\n",
    "icu_clean[select_columns].to_csv(\"Output_Data/icu_clean.csv\")"
   ]
  }
 ],
 "metadata": {
  "kernelspec": {
   "display_name": "Python 3",
   "language": "python",
   "name": "python3"
  },
  "language_info": {
   "codemirror_mode": {
    "name": "ipython",
    "version": 3
   },
   "file_extension": ".py",
   "mimetype": "text/x-python",
   "name": "python",
   "nbconvert_exporter": "python",
   "pygments_lexer": "ipython3",
   "version": "3.7.4"
  }
 },
 "nbformat": 4,
 "nbformat_minor": 5
}
